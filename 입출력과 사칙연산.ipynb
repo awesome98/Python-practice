{
 "cells": [
  {
   "cell_type": "markdown",
   "id": "86d2162d",
   "metadata": {},
   "source": [
    "# 입출력과 사칙연산"
   ]
  },
  {
   "cell_type": "markdown",
   "id": "904715da",
   "metadata": {},
   "source": [
    "## Hello World"
   ]
  },
  {
   "cell_type": "code",
   "execution_count": 1,
   "id": "8612e088",
   "metadata": {},
   "outputs": [
    {
     "name": "stdout",
     "output_type": "stream",
     "text": [
      "Hello World!\n"
     ]
    }
   ],
   "source": [
    "print('Hello World!')"
   ]
  },
  {
   "cell_type": "markdown",
   "id": "a75ebc67",
   "metadata": {},
   "source": [
    "## A+B"
   ]
  },
  {
   "cell_type": "code",
   "execution_count": 13,
   "id": "2ed7cd1f",
   "metadata": {},
   "outputs": [
    {
     "name": "stdout",
     "output_type": "stream",
     "text": [
      "1 2\n"
     ]
    },
    {
     "data": {
      "text/plain": [
       "3"
      ]
     },
     "execution_count": 13,
     "metadata": {},
     "output_type": "execute_result"
    }
   ],
   "source": [
    "x = input()\n",
    "x = x.split(' ')\n",
    "x = [int (i) for i in x]\n",
    "print(sum(x))"
   ]
  },
  {
   "cell_type": "markdown",
   "id": "04285dba",
   "metadata": {},
   "source": [
    "## A-B"
   ]
  },
  {
   "cell_type": "code",
   "execution_count": 6,
   "id": "5b211d0e",
   "metadata": {},
   "outputs": [
    {
     "name": "stdout",
     "output_type": "stream",
     "text": [
      "1 2\n",
      "-1\n"
     ]
    }
   ],
   "source": [
    "x = input()\n",
    "x = x.split(' ')\n",
    "ans = int(x[0])-int(x[1])\n",
    "print(ans)"
   ]
  },
  {
   "cell_type": "markdown",
   "id": "3b7bcf67",
   "metadata": {},
   "source": [
    "## AxB"
   ]
  },
  {
   "cell_type": "code",
   "execution_count": 16,
   "id": "a8fe82b1",
   "metadata": {},
   "outputs": [
    {
     "name": "stdout",
     "output_type": "stream",
     "text": [
      "3 4\n",
      "12\n"
     ]
    }
   ],
   "source": [
    "x = input()\n",
    "x = x.split(' ')\n",
    "ans = int(x[0])*int(x[1])\n",
    "print(ans)"
   ]
  },
  {
   "cell_type": "markdown",
   "id": "2341ddbf",
   "metadata": {},
   "source": [
    "## A/B"
   ]
  },
  {
   "cell_type": "code",
   "execution_count": 18,
   "id": "6987d9d5",
   "metadata": {},
   "outputs": [
    {
     "name": "stdout",
     "output_type": "stream",
     "text": [
      "4 5\n",
      "0.8\n"
     ]
    }
   ],
   "source": [
    "x = input()\n",
    "x = x.split(' ')\n",
    "ans = int(x[0])/int(x[1])\n",
    "print(ans)"
   ]
  },
  {
   "cell_type": "markdown",
   "id": "7fcc80fb",
   "metadata": {},
   "source": [
    "## 사칙연산"
   ]
  },
  {
   "cell_type": "code",
   "execution_count": 21,
   "id": "95a4630e",
   "metadata": {},
   "outputs": [
    {
     "name": "stdout",
     "output_type": "stream",
     "text": [
      "7 3\n",
      "10\n",
      "4\n",
      "21\n",
      "2\n",
      "1\n"
     ]
    }
   ],
   "source": [
    "x = input()\n",
    "x = x.split(' ')\n",
    "ans = int(x[0])+int(x[1])\n",
    "print(ans)\n",
    "ans = int(x[0])-int(x[1])\n",
    "print(ans)\n",
    "ans = int(x[0])*int(x[1])\n",
    "print(ans)\n",
    "ans = int(int(x[0])/int(x[1]))\n",
    "print(ans)\n",
    "ans = int(x[0])%int(x[1])\n",
    "print(ans)"
   ]
  },
  {
   "cell_type": "markdown",
   "id": "23361111",
   "metadata": {},
   "source": [
    "## ??!"
   ]
  },
  {
   "cell_type": "code",
   "execution_count": 22,
   "id": "8389e868",
   "metadata": {},
   "outputs": [
    {
     "name": "stdout",
     "output_type": "stream",
     "text": [
      "joonha\n",
      "joonha??!\n"
     ]
    }
   ],
   "source": [
    "s = input()\n",
    "print(s+'??!')"
   ]
  },
  {
   "cell_type": "markdown",
   "id": "3e975a45",
   "metadata": {},
   "source": [
    "## 1998년생인 내가 태국에서는 2541년생?!"
   ]
  },
  {
   "cell_type": "code",
   "execution_count": 25,
   "id": "49bcd2fc",
   "metadata": {},
   "outputs": [
    {
     "name": "stdout",
     "output_type": "stream",
     "text": [
      "2541\n",
      "1998\n"
     ]
    }
   ],
   "source": [
    "a = input()\n",
    "b = int(a)-543\n",
    "print(b)"
   ]
  },
  {
   "cell_type": "markdown",
   "id": "37876267",
   "metadata": {},
   "source": [
    "## 킹, 퀸, 룩, 비숍, 나이트, 폰"
   ]
  },
  {
   "cell_type": "code",
   "execution_count": 50,
   "id": "9c9bcde2",
   "metadata": {},
   "outputs": [
    {
     "name": "stdout",
     "output_type": "stream",
     "text": [
      "0 1 2 2 2 7\n",
      "1 0 0 0 0 1 "
     ]
    }
   ],
   "source": [
    "x = input()\n",
    "x = x.split(' ')\n",
    "x = [int (i) for i in x]\n",
    "tmp = [1,1,2,2,2,8]\n",
    "for i,j in zip(tmp,x):\n",
    "    ans = i-j\n",
    "    print(ans, end=' ')"
   ]
  },
  {
   "cell_type": "markdown",
   "id": "a8dfd258",
   "metadata": {},
   "source": [
    "## 나머지"
   ]
  },
  {
   "cell_type": "code",
   "execution_count": 52,
   "id": "cd4a1db5",
   "metadata": {},
   "outputs": [
    {
     "name": "stdout",
     "output_type": "stream",
     "text": [
      "5 8 4\n",
      "1\n",
      "1\n",
      "0\n",
      "0\n"
     ]
    }
   ],
   "source": [
    "x = input()\n",
    "x = x.split(' ')\n",
    "x = [int (i) for i in x]\n",
    "A,B,C = x[0],x[1],x[2]\n",
    "print((A+B)%C)\n",
    "print(((A%C) + (B%C))%C)\n",
    "print((A*B)%C)\n",
    "print(((A%C)*(B%C))%C)"
   ]
  },
  {
   "cell_type": "markdown",
   "id": "60593853",
   "metadata": {},
   "source": [
    "## 곱셈"
   ]
  },
  {
   "cell_type": "code",
   "execution_count": 56,
   "id": "76e4f444",
   "metadata": {},
   "outputs": [
    {
     "name": "stdout",
     "output_type": "stream",
     "text": [
      "472\n",
      "385\n",
      "2360\n",
      "3776\n",
      "1416\n",
      "181720\n"
     ]
    }
   ],
   "source": [
    "x = int(input())\n",
    "y = int(input())\n",
    "z3 = (y%10)*x\n",
    "z4 = ((y%100)//10)*x\n",
    "z5 = (y//100)*x\n",
    "z6 = z3 + 10*z4 + 100*z5\n",
    "print(z3)\n",
    "print(z4)\n",
    "print(z5)\n",
    "print(z6)"
   ]
  },
  {
   "cell_type": "markdown",
   "id": "a486e04f",
   "metadata": {},
   "source": [
    "## 고양이"
   ]
  },
  {
   "cell_type": "code",
   "execution_count": 66,
   "id": "7d91757f",
   "metadata": {},
   "outputs": [
    {
     "name": "stdout",
     "output_type": "stream",
     "text": [
      "\\    /\\\n",
      " )  ( ')\n",
      "(  /  )\n",
      " \\(__)|\n"
     ]
    }
   ],
   "source": [
    "print(\"\\    /\\\\\")\n",
    "print(\" )  ( ')\")\n",
    "print(\"(  /  )\")\n",
    "print(\" \\(__)|\")"
   ]
  },
  {
   "cell_type": "markdown",
   "id": "b02a8a09",
   "metadata": {},
   "source": [
    "## 개"
   ]
  },
  {
   "cell_type": "code",
   "execution_count": 3,
   "id": "d54b01b8",
   "metadata": {},
   "outputs": [
    {
     "name": "stdout",
     "output_type": "stream",
     "text": [
      "|\\_/|\n",
      "|q p|   /}\n",
      "( 0 )\"\"\"\\\n",
      "|\"^\"`    |\n",
      "||_/=\\\\__|\n"
     ]
    }
   ],
   "source": [
    "print(\"|\\_/|\")\n",
    "print(\"|q p|   /}\")\n",
    "print('( 0 )\"\"\"\\\\')\n",
    "print('|\"^\"`    |')\n",
    "print(\"||_/=\\\\\\__|\")"
   ]
  },
  {
   "cell_type": "markdown",
   "id": "f5a5a304",
   "metadata": {},
   "source": [
    "## 새싹"
   ]
  },
  {
   "cell_type": "code",
   "execution_count": 4,
   "id": "b481e599",
   "metadata": {},
   "outputs": [
    {
     "name": "stdout",
     "output_type": "stream",
     "text": [
      "         ,r'\"7\n",
      "r`-_   ,'  ,/\n",
      " \\. \". L_r'\n",
      "   `~\\/\n",
      "      |\n",
      "      |\n"
     ]
    }
   ],
   "source": [
    "print('''         ,r'\"7\n",
    "r`-_   ,'  ,/\n",
    " \\. \". L_r'\n",
    "   `~\\/\n",
    "      |\n",
    "      |''')"
   ]
  },
  {
   "cell_type": "code",
   "execution_count": null,
   "id": "84ccc6c0",
   "metadata": {},
   "outputs": [],
   "source": []
  }
 ],
 "metadata": {
  "kernelspec": {
   "display_name": "Python 3 (ipykernel)",
   "language": "python",
   "name": "python3"
  },
  "language_info": {
   "codemirror_mode": {
    "name": "ipython",
    "version": 3
   },
   "file_extension": ".py",
   "mimetype": "text/x-python",
   "name": "python",
   "nbconvert_exporter": "python",
   "pygments_lexer": "ipython3",
   "version": "3.9.12"
  }
 },
 "nbformat": 4,
 "nbformat_minor": 5
}
